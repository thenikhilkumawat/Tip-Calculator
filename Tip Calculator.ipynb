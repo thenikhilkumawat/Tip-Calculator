{
 "cells": [
  {
   "cell_type": "code",
   "execution_count": 1,
   "id": "2bd8cefe",
   "metadata": {},
   "outputs": [
    {
     "name": "stdout",
     "output_type": "stream",
     "text": [
      "Welcome to the Tip Calculator\n",
      "Enter your Bill Amount $150.00\n",
      "Enter the Tip Amount $12\n",
      "Your total amount is $ 162.0\n",
      "How many people to split the Bill?: 5\n",
      "Each person should pay $32.4\n"
     ]
    }
   ],
   "source": [
    "#Write your code below this line 👇\n",
    "print(\"Welcome to the Tip Calculator\")\n",
    "Bill = float(input(\"Enter your Bill Amount $\"))\n",
    "tip = int(input(\"Enter the Tip Amount $\"))\n",
    "total = Bill + tip\n",
    "print(\"Your total amount is $\", round(total,2))\n",
    "split = (float(input(\"How many people to split the Bill?: \")))\n",
    "\n",
    "y = round(total/split, 2)\n",
    "print(f\"Each person should pay ${y}\")"
   ]
  },
  {
   "cell_type": "code",
   "execution_count": null,
   "id": "bdc8e828",
   "metadata": {},
   "outputs": [],
   "source": []
  }
 ],
 "metadata": {
  "kernelspec": {
   "display_name": "Python 3 (ipykernel)",
   "language": "python",
   "name": "python3"
  },
  "language_info": {
   "codemirror_mode": {
    "name": "ipython",
    "version": 3
   },
   "file_extension": ".py",
   "mimetype": "text/x-python",
   "name": "python",
   "nbconvert_exporter": "python",
   "pygments_lexer": "ipython3",
   "version": "3.10.7"
  }
 },
 "nbformat": 4,
 "nbformat_minor": 5
}
